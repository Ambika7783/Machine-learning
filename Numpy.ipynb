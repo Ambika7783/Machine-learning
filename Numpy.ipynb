{
  "nbformat": 4,
  "nbformat_minor": 0,
  "metadata": {
    "colab": {
      "provenance": [],
      "authorship_tag": "ABX9TyNKJuxvAfrjmR1fEosDsxGV",
      "include_colab_link": true
    },
    "kernelspec": {
      "name": "python3",
      "display_name": "Python 3"
    },
    "language_info": {
      "name": "python"
    }
  },
  "cells": [
    {
      "cell_type": "markdown",
      "metadata": {
        "id": "view-in-github",
        "colab_type": "text"
      },
      "source": [
        "<a href=\"https://colab.research.google.com/github/Ambika7783/Machine-learning/blob/main/Numpy.ipynb\" target=\"_parent\"><img src=\"https://colab.research.google.com/assets/colab-badge.svg\" alt=\"Open In Colab\"/></a>"
      ]
    },
    {
      "cell_type": "code",
      "execution_count": null,
      "metadata": {
        "colab": {
          "base_uri": "https://localhost:8080/"
        },
        "id": "jpKrVSqdT32-",
        "outputId": "2034e9ee-2b10-4121-9a0c-ecc3006f4e46"
      },
      "outputs": [
        {
          "output_type": "stream",
          "name": "stdout",
          "text": [
            "Requirement already satisfied: numpy in /usr/local/lib/python3.12/dist-packages (2.0.2)\n"
          ]
        }
      ],
      "source": [
        "!pip install numpy"
      ]
    },
    {
      "cell_type": "markdown",
      "source": [
        "import the library"
      ],
      "metadata": {
        "id": "ychsH7KcUTv3"
      }
    },
    {
      "cell_type": "code",
      "source": [
        "import numpy as np #np is my alias name"
      ],
      "metadata": {
        "id": "s3dX1uoyUWgV"
      },
      "execution_count": null,
      "outputs": []
    },
    {
      "cell_type": "code",
      "source": [
        "arr1 = np.array([1,2,3,4,5],dtype=float) #Array is homogenous in nature\n",
        "print(arr1)\n",
        "print(type(arr1))\n",
        "print(arr1.dtype)"
      ],
      "metadata": {
        "colab": {
          "base_uri": "https://localhost:8080/"
        },
        "id": "Zv2p0ge4U0dp",
        "outputId": "bf2ddcb6-acd7-446c-c015-c4122aa6f2c8"
      },
      "execution_count": null,
      "outputs": [
        {
          "output_type": "stream",
          "name": "stdout",
          "text": [
            "[1. 2. 3. 4. 5.]\n",
            "<class 'numpy.ndarray'>\n",
            "float64\n"
          ]
        }
      ]
    },
    {
      "cell_type": "code",
      "source": [
        "#. shape,.ndim-attributes\n",
        "print(arr1.shape)#shape of array (each dimension having how many elements)\n",
        "print(arr1.ndim)#Dimension of array\n",
        "'''(5,)\n",
        "This means:\n",
        "The array has 1 dimension.\n",
        "That dimension has 5 elements.\n",
        "So (5,) = a 1D array with 5 elements.'''\n",
        "#arr1.ndim This means the array is 1-dimensional (a vector)."
      ],
      "metadata": {
        "colab": {
          "base_uri": "https://localhost:8080/"
        },
        "id": "EljEPghtcJGc",
        "outputId": "c205a69c-11a0-4b1b-bff0-054f19a2849c"
      },
      "execution_count": null,
      "outputs": [
        {
          "output_type": "stream",
          "name": "stdout",
          "text": [
            "(5,)\n",
            "1\n"
          ]
        }
      ]
    },
    {
      "cell_type": "code",
      "source": [
        "#for zero dimension and no shape ,if we have 1 value in an array\n",
        "arr0=np.array(12)\n",
        "print(arr0.shape)\n",
        "arr0.ndim"
      ],
      "metadata": {
        "colab": {
          "base_uri": "https://localhost:8080/"
        },
        "id": "XOGe1FamrGBR",
        "outputId": "38f190c3-3f7d-4ded-97ba-2af72d70eae0"
      },
      "execution_count": null,
      "outputs": [
        {
          "output_type": "stream",
          "name": "stdout",
          "text": [
            "()\n"
          ]
        },
        {
          "output_type": "execute_result",
          "data": {
            "text/plain": [
              "0"
            ]
          },
          "metadata": {},
          "execution_count": 7
        }
      ]
    },
    {
      "cell_type": "code",
      "source": [
        "#two dimension\n",
        "arr2 = np.array([[1,2],[3,4]])\n",
        "print(arr2)\n",
        "print(arr2.shape)\n",
        "print(arr2.ndim)\n",
        "\n"
      ],
      "metadata": {
        "colab": {
          "base_uri": "https://localhost:8080/"
        },
        "id": "L1UG_V7QrXKL",
        "outputId": "c8eda6c6-183c-4c5a-bff1-6b71264eea04"
      },
      "execution_count": null,
      "outputs": [
        {
          "output_type": "stream",
          "name": "stdout",
          "text": [
            "[[1 2]\n",
            " [3 4]]\n",
            "(2, 2)\n",
            "2\n"
          ]
        }
      ]
    },
    {
      "cell_type": "code",
      "source": [
        "#3 dim\n",
        "a3=np.array([[[1,2,3],[4,5,6]],[[7,8,9],[10,11,12]],[[13,14,15],[16,17,18]]])\n",
        "print(a3)\n",
        "print(a3.shape)\n",
        "print(a3.ndim)\n"
      ],
      "metadata": {
        "colab": {
          "base_uri": "https://localhost:8080/"
        },
        "id": "ugP2lZLospGS",
        "outputId": "a2278ff8-3c77-437b-837e-449bf8e84e77"
      },
      "execution_count": null,
      "outputs": [
        {
          "output_type": "stream",
          "name": "stdout",
          "text": [
            "[[[ 1  2  3]\n",
            "  [ 4  5  6]]\n",
            "\n",
            " [[ 7  8  9]\n",
            "  [10 11 12]]\n",
            "\n",
            " [[13 14 15]\n",
            "  [16 17 18]]]\n",
            "(3, 2, 3)\n",
            "3\n"
          ]
        }
      ]
    },
    {
      "cell_type": "markdown",
      "source": [
        "Attribute\tMeaning\n",
        ".ndim-Number of dimensions (axes)\n",
        ".shape-Shape of array (tuple)\n",
        ".size-Total elements\n",
        ".dtype-Data type of elements\n",
        ".itemsize-Size of one element (bytes)\n",
        ".nbytes-Total memory (bytes)\n",
        ".T-Transpose of array\n",
        "\n"
      ],
      "metadata": {
        "id": "V34ppFu3xOdN"
      }
    },
    {
      "cell_type": "code",
      "source": [
        "#ndim-attributes(Attribute that shows the shape of array)\n",
        "#ndim-parameter(That  defines the shape of array)\n",
        "import numpy as np\n",
        "arr=np.array([1,2,3,4,5],ndmin=4)\n",
        "print(arr)\n",
        "print(arr.shape)\n",
        "print(arr.ndim)"
      ],
      "metadata": {
        "colab": {
          "base_uri": "https://localhost:8080/"
        },
        "id": "_UXqlbsLMku2",
        "outputId": "d2c7692d-a624-44eb-f203-048243378296"
      },
      "execution_count": null,
      "outputs": [
        {
          "output_type": "stream",
          "name": "stdout",
          "text": [
            "[[[[1 2 3 4 5]]]]\n",
            "(1, 1, 1, 5)\n",
            "4\n"
          ]
        }
      ]
    },
    {
      "cell_type": "code",
      "source": [
        "arr = np.array([1, 2, 3, 4, 5, 6, 7, 8])\n",
        "reshaped = arr.reshape(2, 2, 2)  # 3D\n",
        "print(reshaped)\n",
        "print(\"shape:\", reshaped.shape)\n"
      ],
      "metadata": {
        "colab": {
          "base_uri": "https://localhost:8080/"
        },
        "id": "0oX--56xS0m4",
        "outputId": "b691cbb7-7876-47d9-d66d-c24b9eca0939"
      },
      "execution_count": null,
      "outputs": [
        {
          "output_type": "stream",
          "name": "stdout",
          "text": [
            "[[[1 2]\n",
            "  [3 4]]\n",
            "\n",
            " [[5 6]\n",
            "  [7 8]]]\n",
            "shape: (2, 2, 2)\n"
          ]
        }
      ]
    },
    {
      "cell_type": "markdown",
      "source": [
        "Identity Matrix::An identity matrix is a square matrix with:\n",
        "\n",
        "All diagonal elements = 1\n",
        "\n",
        "All other elements = 0"
      ],
      "metadata": {
        "id": "pjWm7uHMPiQq"
      }
    },
    {
      "cell_type": "code",
      "source": [
        "import numpy as np\n",
        "\n",
        "I = np.identity(6)   # 3x3 identity matrix\n",
        "print(I)"
      ],
      "metadata": {
        "colab": {
          "base_uri": "https://localhost:8080/"
        },
        "id": "N21F-5JpTy1M",
        "outputId": "56bb7d28-5a0f-4e42-aa58-1443279c5b39"
      },
      "execution_count": null,
      "outputs": [
        {
          "output_type": "stream",
          "name": "stdout",
          "text": [
            "[[1. 0. 0. 0. 0. 0.]\n",
            " [0. 1. 0. 0. 0. 0.]\n",
            " [0. 0. 1. 0. 0. 0.]\n",
            " [0. 0. 0. 1. 0. 0.]\n",
            " [0. 0. 0. 0. 1. 0.]\n",
            " [0. 0. 0. 0. 0. 1.]]\n"
          ]
        }
      ]
    },
    {
      "cell_type": "code",
      "source": [
        "# np identity-it will always works on square matix (rows==columns)-diagonal =1\n",
        "#by default the dtype is float\n",
        "np.identity(3,dtype=int)"
      ],
      "metadata": {
        "colab": {
          "base_uri": "https://localhost:8080/"
        },
        "id": "O4W-yv7qSuEr",
        "outputId": "64c54363-0a4c-4b49-f2cf-3efc47b0ce2f"
      },
      "execution_count": null,
      "outputs": [
        {
          "output_type": "execute_result",
          "data": {
            "text/plain": [
              "array([[1, 0, 0],\n",
              "       [0, 1, 0],\n",
              "       [0, 0, 1]])"
            ]
          },
          "metadata": {},
          "execution_count": 7
        }
      ]
    },
    {
      "cell_type": "code",
      "source": [
        "np.eye(3,3,dtype=int,k=3)"
      ],
      "metadata": {
        "colab": {
          "base_uri": "https://localhost:8080/"
        },
        "id": "6bxswOxoTVy7",
        "outputId": "54540438-5116-478a-abe4-27ba708c0a69"
      },
      "execution_count": null,
      "outputs": [
        {
          "output_type": "execute_result",
          "data": {
            "text/plain": [
              "array([[0, 0, 0],\n",
              "       [0, 0, 0],\n",
              "       [0, 0, 0]])"
            ]
          },
          "metadata": {},
          "execution_count": 12
        }
      ]
    },
    {
      "cell_type": "markdown",
      "source": [],
      "metadata": {
        "id": "ySe4Jq6JSotK"
      }
    },
    {
      "cell_type": "code",
      "source": [
        "Broadcasting:automatically expand smaller array to higher dimension array to match shape"
      ],
      "metadata": {
        "id": "V0yI9iVgX6OK"
      },
      "execution_count": null,
      "outputs": []
    },
    {
      "cell_type": "code",
      "source": [
        "a=np.array([[1,2,3],[4,5,6]])\n",
        "b=np.array([7,8,9])\n",
        "print(a+b)"
      ],
      "metadata": {
        "colab": {
          "base_uri": "https://localhost:8080/"
        },
        "id": "ge-Q5aRoYKwx",
        "outputId": "325a44bf-5c56-43e0-8f65-4a51266f557e"
      },
      "execution_count": null,
      "outputs": [
        {
          "output_type": "stream",
          "name": "stdout",
          "text": [
            "[[ 8 10 12]\n",
            " [11 13 15]]\n"
          ]
        }
      ]
    },
    {
      "cell_type": "markdown",
      "source": [
        "some ways to create arrays"
      ],
      "metadata": {
        "id": "k7qjmkn5YmKZ"
      }
    },
    {
      "cell_type": "code",
      "source": [
        "np.zeros((3,9),dtype=int)"
      ],
      "metadata": {
        "colab": {
          "base_uri": "https://localhost:8080/"
        },
        "id": "gWXXk5z-YrVL",
        "outputId": "368165f3-a5aa-4fa6-ccfa-5b868f2bc2be"
      },
      "execution_count": null,
      "outputs": [
        {
          "output_type": "execute_result",
          "data": {
            "text/plain": [
              "array([[0, 0, 0, 0, 0, 0, 0, 0, 0],\n",
              "       [0, 0, 0, 0, 0, 0, 0, 0, 0],\n",
              "       [0, 0, 0, 0, 0, 0, 0, 0, 0]])"
            ]
          },
          "metadata": {},
          "execution_count": 16
        }
      ]
    },
    {
      "cell_type": "code",
      "source": [
        "np.ones((3,6))"
      ],
      "metadata": {
        "colab": {
          "base_uri": "https://localhost:8080/"
        },
        "id": "mY1BarJrY3AA",
        "outputId": "50bc1282-abc6-4db7-8755-3067fd515ff4"
      },
      "execution_count": null,
      "outputs": [
        {
          "output_type": "execute_result",
          "data": {
            "text/plain": [
              "array([[1., 1., 1., 1., 1., 1.],\n",
              "       [1., 1., 1., 1., 1., 1.],\n",
              "       [1., 1., 1., 1., 1., 1.]])"
            ]
          },
          "metadata": {},
          "execution_count": 17
        }
      ]
    },
    {
      "cell_type": "code",
      "source": [
        "'''a NumPy function used to create an array filled with a specific value.\n",
        "It’s very useful when you want an array of a fixed size with the same number everywhere.'''\n",
        "np.full((6,3),8)"
      ],
      "metadata": {
        "colab": {
          "base_uri": "https://localhost:8080/"
        },
        "id": "TB48D8rsZ1B9",
        "outputId": "9be8f546-154b-474b-8583-38888b376925"
      },
      "execution_count": null,
      "outputs": [
        {
          "output_type": "execute_result",
          "data": {
            "text/plain": [
              "array([[8, 8, 8],\n",
              "       [8, 8, 8],\n",
              "       [8, 8, 8],\n",
              "       [8, 8, 8],\n",
              "       [8, 8, 8],\n",
              "       [8, 8, 8]])"
            ]
          },
          "metadata": {},
          "execution_count": 22
        }
      ]
    },
    {
      "cell_type": "code",
      "source": [
        "#another way\n",
        "np.ones((5,4))*7"
      ],
      "metadata": {
        "colab": {
          "base_uri": "https://localhost:8080/"
        },
        "id": "nfKveAk8akCU",
        "outputId": "47741993-6066-4aa7-b80b-177f3a3665cf"
      },
      "execution_count": null,
      "outputs": [
        {
          "output_type": "execute_result",
          "data": {
            "text/plain": [
              "array([[7., 7., 7., 7.],\n",
              "       [7., 7., 7., 7.],\n",
              "       [7., 7., 7., 7.],\n",
              "       [7., 7., 7., 7.],\n",
              "       [7., 7., 7., 7.]])"
            ]
          },
          "metadata": {},
          "execution_count": 23
        }
      ]
    },
    {
      "cell_type": "markdown",
      "source": [
        "Mathematical methods through numpy"
      ],
      "metadata": {
        "id": "UZ3ihOwFazhZ"
      }
    },
    {
      "cell_type": "code",
      "source": [
        "arr=np.array([1,2,3,4,5],ndmin=2)\n",
        "#methods\n",
        "print(f'Sum of all elements are:{np.sum(arr)}')\n",
        "print(f'Mean of all elements are:{np.mean(arr)}')\n",
        "print(f'variance of all elements are:{np.std(arr)}')\n",
        "print(f'smallest element:{np.min(arr)}')\n",
        "print(f'largest element:{np.max(arr)}')\n",
        "print(f'smallest element:{np.min(arr)}')\n",
        "print(f'cumulative sum:{np.cumsum(arr)}')\n",
        "\n",
        "len(arr)"
      ],
      "metadata": {
        "colab": {
          "base_uri": "https://localhost:8080/"
        },
        "id": "2ePeRfLGa5ds",
        "outputId": "34c16b12-2a00-46b2-d1a6-dfa572f2f788"
      },
      "execution_count": null,
      "outputs": [
        {
          "output_type": "stream",
          "name": "stdout",
          "text": [
            "Sum of all elements are:15\n",
            "Mean of all elements are:3.0\n",
            "variance of all elements are:1.4142135623730951\n",
            "smallest element:1\n",
            "largest element:5\n",
            "smallest element:1\n",
            "cumulative sum:[ 1  3  6 10 15]\n"
          ]
        },
        {
          "output_type": "execute_result",
          "data": {
            "text/plain": [
              "1"
            ]
          },
          "metadata": {},
          "execution_count": 32
        }
      ]
    },
    {
      "cell_type": "code",
      "source": [
        "x=5\n",
        "y=10\n",
        "print('the value of x is',x,'and the value of y is',y)\n",
        "print(f'the value of x is{x} and the value of y is{y} ')"
      ],
      "metadata": {
        "colab": {
          "base_uri": "https://localhost:8080/"
        },
        "id": "ND33YM3Rb_SD",
        "outputId": "4bd16210-1ecd-498d-a844-c941f1663e33"
      },
      "execution_count": null,
      "outputs": [
        {
          "output_type": "stream",
          "name": "stdout",
          "text": [
            "the value of x is 5 and the value of y is 10\n",
            "the value of x is5 and the value of y is10 \n"
          ]
        }
      ]
    },
    {
      "cell_type": "markdown",
      "source": [
        "Attributes\n",
        "\n",
        "Properties of an array (no parentheses () needed).\n",
        "\n",
        "They give information about the array (like dimensions, shape, size, etc.).\n",
        "\n",
        "Read-only or descriptive — they don’t perform operations.\n",
        "\n"
      ],
      "metadata": {
        "id": "6wqtl33gf2XA"
      }
    },
    {
      "cell_type": "code",
      "source": [
        "import numpy as np\n",
        "\n",
        "arr = np.array([[1, 2, 3], [4, 5, 6]])\n",
        "\n",
        "print(arr.ndim)    # 2  (number of dimensions)\n",
        "print(arr.shape)   # (2, 3) (2 rows, 3 columns)\n",
        "print(arr.size)    # 6  (total elements)\n",
        "print(arr.dtype)   # int64 (data type)\n",
        "print(arr.itemsize) # 8  (bytes per element)\n",
        "print(arr.nbytes)   # 48 (total bytes = size × itemsize)\n"
      ],
      "metadata": {
        "colab": {
          "base_uri": "https://localhost:8080/"
        },
        "id": "5zZgE3tvcOMZ",
        "outputId": "ab795cd0-964d-4a38-8942-600cec91baf8"
      },
      "execution_count": null,
      "outputs": [
        {
          "output_type": "stream",
          "name": "stdout",
          "text": [
            "2\n",
            "(2, 3)\n",
            "6\n",
            "int64\n",
            "8\n",
            "48\n"
          ]
        }
      ]
    },
    {
      "cell_type": "markdown",
      "source": [
        "Methods\n",
        "\n",
        "Functions associated with the array (require parentheses ()).\n",
        "\n",
        "They perform actions/operations (like reshape, sum, mean, flatten, etc.)."
      ],
      "metadata": {
        "id": "bxM1XIe-gEgR"
      }
    },
    {
      "cell_type": "code",
      "source": [
        "print(arr.sum())        # 21 (sum of all elements)\n",
        "print(arr.mean())       # 3.5 (average)\n",
        "print(arr.max())        # 6 (maximum value)\n",
        "print(arr.min())        # 1 (minimum value)\n",
        "print(arr.reshape(3, 2)) # reshape to 3x2\n",
        "print(arr.flatten())    # [1 2 3 4 5 6] (1D view)"
      ],
      "metadata": {
        "colab": {
          "base_uri": "https://localhost:8080/"
        },
        "id": "mfh9wvTWgH8G",
        "outputId": "667e5ee2-b15b-4d48-b945-84e794e99c79"
      },
      "execution_count": null,
      "outputs": [
        {
          "output_type": "stream",
          "name": "stdout",
          "text": [
            "21\n",
            "3.5\n",
            "6\n",
            "1\n",
            "[[1 2]\n",
            " [3 4]\n",
            " [5 6]]\n",
            "[1 2 3 4 5 6]\n"
          ]
        }
      ]
    },
    {
      "cell_type": "markdown",
      "source": [
        "Random methods & Pandas"
      ],
      "metadata": {
        "id": "tclBnaMenJD8"
      }
    },
    {
      "cell_type": "code",
      "source": [
        "np.random.rand((3))#it will generate 3 values(range-0to1)"
      ],
      "metadata": {
        "colab": {
          "base_uri": "https://localhost:8080/"
        },
        "id": "ei3i83I-nPRe",
        "outputId": "0eb8d3f4-fc0b-45b0-d5aa-21a1f0530437"
      },
      "execution_count": 36,
      "outputs": [
        {
          "output_type": "execute_result",
          "data": {
            "text/plain": [
              "array([0.52366482, 0.0255262 , 0.19424834])"
            ]
          },
          "metadata": {},
          "execution_count": 36
        }
      ]
    },
    {
      "cell_type": "code",
      "source": [
        "np.random.randint(1,10,size=(2,3))"
      ],
      "metadata": {
        "colab": {
          "base_uri": "https://localhost:8080/"
        },
        "id": "tmVJznL_nfra",
        "outputId": "c77944ad-7cda-40b0-8e2e-6bdb9f07f405"
      },
      "execution_count": 37,
      "outputs": [
        {
          "output_type": "execute_result",
          "data": {
            "text/plain": [
              "array([[2, 7, 7],\n",
              "       [7, 2, 4]])"
            ]
          },
          "metadata": {},
          "execution_count": 37
        }
      ]
    },
    {
      "cell_type": "code",
      "source": [
        "arr=np.array([1,2,3,4,5])\n",
        "np.random.shuffle(arr)\n",
        "arr"
      ],
      "metadata": {
        "colab": {
          "base_uri": "https://localhost:8080/"
        },
        "id": "IzBjUEP5oVyY",
        "outputId": "a9bbc8c8-7147-4b0f-9db7-f30f565d2f58"
      },
      "execution_count": 38,
      "outputs": [
        {
          "output_type": "execute_result",
          "data": {
            "text/plain": [
              "array([3, 1, 5, 2, 4])"
            ]
          },
          "metadata": {},
          "execution_count": 38
        }
      ]
    },
    {
      "cell_type": "code",
      "source": [
        "#Matrix manipulation\n",
        "import numpy as np\n",
        "\n",
        "# 2D matrix (2x3)\n",
        "A = np.array([[1, 2, 3],\n",
        "              [4, 5, 6]])\n",
        "\n",
        "# 3x3 zero matrix\n",
        "Z = np.zeros((3,3))\n",
        "\n",
        "# 3x3 ones matrix\n",
        "O = np.ones((3,3))\n",
        "\n",
        "# Identity matrix\n",
        "I = np.identity(3)\n",
        "\n",
        "# Matrix filled with a number\n",
        "F = np.full((2,3), 7)\n"
      ],
      "metadata": {
        "id": "62wxDxVDpF87"
      },
      "execution_count": 44,
      "outputs": []
    },
    {
      "cell_type": "code",
      "source": [
        "a=np.array([[1,2,3],[4,5,6]])\n",
        "a"
      ],
      "metadata": {
        "colab": {
          "base_uri": "https://localhost:8080/"
        },
        "id": "Yw-kDAuppxXU",
        "outputId": "13ccbc45-ce43-4b52-e9a8-05c75f1209ed"
      },
      "execution_count": 45,
      "outputs": [
        {
          "output_type": "execute_result",
          "data": {
            "text/plain": [
              "array([[1, 2, 3],\n",
              "       [4, 5, 6]])"
            ]
          },
          "metadata": {},
          "execution_count": 45
        }
      ]
    },
    {
      "cell_type": "code",
      "source": [
        "np.transpose(a)"
      ],
      "metadata": {
        "colab": {
          "base_uri": "https://localhost:8080/"
        },
        "id": "egloV4oup-jb",
        "outputId": "f73e81f5-3c8d-4ce5-ea1a-787d747e0d7f"
      },
      "execution_count": 46,
      "outputs": [
        {
          "output_type": "execute_result",
          "data": {
            "text/plain": [
              "array([[1, 4],\n",
              "       [2, 5],\n",
              "       [3, 6]])"
            ]
          },
          "metadata": {},
          "execution_count": 46
        }
      ]
    },
    {
      "cell_type": "code",
      "source": [
        "#onverts a multi-dimensional array into a 1D array.\n",
        "a.flatten()"
      ],
      "metadata": {
        "colab": {
          "base_uri": "https://localhost:8080/"
        },
        "id": "79s2QsCtqZfD",
        "outputId": "cfa78206-72ad-49a4-ea46-4d991ce540bc"
      },
      "execution_count": 47,
      "outputs": [
        {
          "output_type": "execute_result",
          "data": {
            "text/plain": [
              "array([1, 2, 3, 4, 5, 6])"
            ]
          },
          "metadata": {},
          "execution_count": 47
        }
      ]
    },
    {
      "cell_type": "code",
      "source": [
        "import numpy as np\n",
        "\n",
        "a = np.array([[1, 2, 3], [4, 5, 6]])\n",
        "\n",
        "flat = a.flatten()\n",
        "print(flat)\n",
        "\n"
      ],
      "metadata": {
        "colab": {
          "base_uri": "https://localhost:8080/"
        },
        "id": "ZIcOxN7rrK-q",
        "outputId": "2898c91c-b437-4166-bdf5-52cdd5f4dd37"
      },
      "execution_count": 50,
      "outputs": [
        {
          "output_type": "stream",
          "name": "stdout",
          "text": [
            "[1 2 3 4 5 6]\n"
          ]
        }
      ]
    },
    {
      "cell_type": "code",
      "source": [
        "import numpy as np\n",
        "x=np.array([1,2])\n",
        "y=np.array([3,4])\n",
        "np.vstack((x,y))"
      ],
      "metadata": {
        "colab": {
          "base_uri": "https://localhost:8080/"
        },
        "id": "6YgDEM_B8vcy",
        "outputId": "a3fdff71-e120-4bf0-e125-18f113537e29"
      },
      "execution_count": 2,
      "outputs": [
        {
          "output_type": "execute_result",
          "data": {
            "text/plain": [
              "array([[1, 2],\n",
              "       [3, 4]])"
            ]
          },
          "metadata": {},
          "execution_count": 2
        }
      ]
    },
    {
      "cell_type": "code",
      "source": [
        "np.hstack((x,y))"
      ],
      "metadata": {
        "colab": {
          "base_uri": "https://localhost:8080/"
        },
        "id": "YuJyAUf79Jc9",
        "outputId": "74c819f2-7b7d-4ff2-a95a-88e87146fd30"
      },
      "execution_count": 3,
      "outputs": [
        {
          "output_type": "execute_result",
          "data": {
            "text/plain": [
              "array([1, 2, 3, 4])"
            ]
          },
          "metadata": {},
          "execution_count": 3
        }
      ]
    },
    {
      "cell_type": "code",
      "source": [
        "array=np.array([[10,20,30],\n",
        "               [40,50,60],\n",
        "               [70,80,90]])\n",
        "array"
      ],
      "metadata": {
        "colab": {
          "base_uri": "https://localhost:8080/"
        },
        "id": "7fu3jAix9RMh",
        "outputId": "7406a260-3cec-46e4-ab09-74311af2d5ea"
      },
      "execution_count": 6,
      "outputs": [
        {
          "output_type": "execute_result",
          "data": {
            "text/plain": [
              "array([[10, 20, 30],\n",
              "       [40, 50, 60],\n",
              "       [70, 80, 90]])"
            ]
          },
          "metadata": {},
          "execution_count": 6
        }
      ]
    },
    {
      "cell_type": "code",
      "source": [
        "print(array[1,1])\n",
        "print(array[0,2])\n",
        "print(array[2,:])"
      ],
      "metadata": {
        "colab": {
          "base_uri": "https://localhost:8080/"
        },
        "id": "sEVvH8_e-0MM",
        "outputId": "308c1ce5-cc5e-42bf-f58a-b50b10e4ce5b"
      },
      "execution_count": 8,
      "outputs": [
        {
          "output_type": "stream",
          "name": "stdout",
          "text": [
            "50\n",
            "30\n",
            "[70 80 90]\n"
          ]
        }
      ]
    },
    {
      "cell_type": "code",
      "source": [
        "array=np.array([20,30,40])\n",
        "result=np.where (array>25,'High','low')#np.where (condition,true,false)\n",
        "result"
      ],
      "metadata": {
        "colab": {
          "base_uri": "https://localhost:8080/"
        },
        "id": "4kv3mmQ5_fp1",
        "outputId": "d74f28e9-ad58-49be-c4d2-ddd28f890b4c"
      },
      "execution_count": 10,
      "outputs": [
        {
          "output_type": "execute_result",
          "data": {
            "text/plain": [
              "array(['low', 'High', 'High'], dtype='<U4')"
            ]
          },
          "metadata": {},
          "execution_count": 10
        }
      ]
    },
    {
      "cell_type": "code",
      "source": [
        "a=np.array([1,2,3])\n",
        "b=a.copy()\n",
        "c=a.view()\n",
        "a[0]=150\n",
        "print(a)\n",
        "print(b)\n",
        "print(c)"
      ],
      "metadata": {
        "colab": {
          "base_uri": "https://localhost:8080/"
        },
        "id": "a5mIwVf5HAzz",
        "outputId": "29a137ae-7df8-40ab-eac0-ed533d570d1a"
      },
      "execution_count": 11,
      "outputs": [
        {
          "output_type": "stream",
          "name": "stdout",
          "text": [
            "[150   2   3]\n",
            "[1 2 3]\n",
            "[150   2   3]\n"
          ]
        }
      ]
    },
    {
      "cell_type": "markdown",
      "source": [
        ".copy()-create a new array\n",
        ".view()-shares the same data\n"
      ],
      "metadata": {
        "id": "6ZpFeUiYHcsR"
      }
    }
  ]
}